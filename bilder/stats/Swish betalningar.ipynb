{
 "cells": [
  {
   "cell_type": "code",
   "execution_count": 9,
   "id": "70c2074e",
   "metadata": {},
   "outputs": [],
   "source": [
    "import pandas as pd\n",
    "import matplotlib.pyplot as plt"
   ]
  },
  {
   "cell_type": "code",
   "execution_count": 20,
   "id": "53cab79d",
   "metadata": {
    "scrolled": true
   },
   "outputs": [],
   "source": [
    "df = pd.read_excel('Swish inbetalningar.xlsx', header=1)"
   ]
  },
  {
   "cell_type": "code",
   "execution_count": 24,
   "id": "1adffa10",
   "metadata": {},
   "outputs": [
    {
     "data": {
      "text/plain": [
       "128740"
      ]
     },
     "execution_count": 24,
     "metadata": {},
     "output_type": "execute_result"
    }
   ],
   "source": [
    "df.Belop.sum()"
   ]
  },
  {
   "cell_type": "code",
   "execution_count": 11,
   "id": "f0eb865f",
   "metadata": {},
   "outputs": [
    {
     "data": {
      "text/plain": [
       "14740"
      ]
     },
     "execution_count": 11,
     "metadata": {},
     "output_type": "execute_result"
    }
   ],
   "source": [
    "df = df[df['Belop']<500].copy()\n",
    "df['Belop'].sum()"
   ]
  },
  {
   "cell_type": "code",
   "execution_count": 12,
   "id": "b81f5185",
   "metadata": {},
   "outputs": [],
   "source": [
    "# städa data\n",
    "df['antal'] = 0\n",
    "df.loc[df['Belop']==10, 'Belop']=50\n",
    "df.loc[df['Belop']==40, 'Belop']=50\n",
    "df.loc[df['Belop']==80,'Belop']=100"
   ]
  },
  {
   "cell_type": "code",
   "execution_count": 13,
   "id": "8397435c",
   "metadata": {},
   "outputs": [],
   "source": [
    "# Innan 1 maj kostade det 50kr/besök, omvandla swish betalningar till antal besökare\n",
    "df.loc[df['Datum']<'2024-05-01', 'antal'] = df.loc[df['Datum']<'2024-05-01', 'Belop']/50"
   ]
  },
  {
   "cell_type": "code",
   "execution_count": 14,
   "id": "d942162f",
   "metadata": {},
   "outputs": [],
   "source": [
    "# Efter 1 maj kostade det 100kr/besök, omvandla till antal besökarea\n",
    "df.loc[(df['Datum']>='2024-05-01') & (df['Belop']==50), 'Belop'] = 100\n",
    "df.loc[df['Datum']>='2024-05-01', 'antal'] = df.loc[df['Datum']>='2024-05-01', 'Belop']/100"
   ]
  },
  {
   "cell_type": "code",
   "execution_count": 15,
   "id": "8ef38d78",
   "metadata": {},
   "outputs": [
    {
     "data": {
      "text/plain": [
       "Datum\n",
       "2024-01-31    13\n",
       "2024-02-29     9\n",
       "2024-03-31    25\n",
       "2024-04-30    24\n",
       "2024-05-31    19\n",
       "2024-06-30     4\n",
       "2024-07-31     1\n",
       "2024-08-31     6\n",
       "2024-09-30    20\n",
       "2024-10-31    27\n",
       "2024-11-30    25\n",
       "2024-12-31    14\n",
       "Freq: M, Name: antal, dtype: int64"
      ]
     },
     "execution_count": 15,
     "metadata": {},
     "output_type": "execute_result"
    }
   ],
   "source": [
    "data = df.set_index('Datum').groupby(pd.Grouper(freq='M'))['antal'].sum()\n",
    "data"
   ]
  },
  {
   "cell_type": "markdown",
   "id": "f91cf12f",
   "metadata": {},
   "source": [
    "# Totala antalet besökare:"
   ]
  },
  {
   "cell_type": "code",
   "execution_count": 16,
   "id": "64ec3b7d",
   "metadata": {},
   "outputs": [
    {
     "data": {
      "text/plain": [
       "187"
      ]
     },
     "execution_count": 16,
     "metadata": {},
     "output_type": "execute_result"
    }
   ],
   "source": [
    "df['antal'].sum()"
   ]
  },
  {
   "cell_type": "code",
   "execution_count": 17,
   "id": "a95963ee",
   "metadata": {},
   "outputs": [],
   "source": [
    "months = 'jan feb mar apr maj jun jul aug sep okt nov dec'.split(' ')"
   ]
  },
  {
   "cell_type": "code",
   "execution_count": 43,
   "id": "fd60ed36",
   "metadata": {},
   "outputs": [
    {
     "data": {
      "text/plain": [
       "11"
      ]
     },
     "execution_count": 43,
     "metadata": {},
     "output_type": "execute_result"
    }
   ],
   "source": [
    "len(months)"
   ]
  },
  {
   "cell_type": "code",
   "execution_count": 40,
   "id": "c9178403",
   "metadata": {},
   "outputs": [
    {
     "data": {
      "text/plain": [
       "array([13,  9, 25, 24, 19,  4,  1,  6, 20, 27, 25, 14])"
      ]
     },
     "execution_count": 40,
     "metadata": {},
     "output_type": "execute_result"
    }
   ],
   "source": [
    "data.values"
   ]
  },
  {
   "cell_type": "code",
   "execution_count": 45,
   "id": "fff38882",
   "metadata": {},
   "outputs": [
    {
     "data": {
      "text/plain": [
       "<BarContainer object of 12 artists>"
      ]
     },
     "execution_count": 45,
     "metadata": {},
     "output_type": "execute_result"
    },
    {
     "data": {
      "image/png": "[encoded data removed]",
      "text/plain": [
       "<Figure size 640x480 with 1 Axes>"
      ]
     },
     "metadata": {},
     "output_type": "display_data"
    }
   ],
   "source": [
    "plt.bar(months, height=data.values)"
   ]
  },
  {
   "cell_type": "code",
   "execution_count": 25,
   "id": "64751a89",
   "metadata": {},
   "outputs": [
    {
     "data": {
      "text/plain": [
       "17.82608695652174"
      ]
     },
     "execution_count": 25,
     "metadata": {},
     "output_type": "execute_result"
    }
   ],
   "source": [
    "4100/230"
   ]
  },
  {
   "cell_type": "code",
   "execution_count": null,
   "id": "12e37d9b",
   "metadata": {},
   "outputs": [],
   "source": []
  }
 ],
 "metadata": {
  "kernelspec": {
   "display_name": "Python 3 (ipykernel)",
   "language": "python",
   "name": "python3"
  },
  "language_info": {
   "codemirror_mode": {
    "name": "ipython",
    "version": 3
   },
   "file_extension": ".py",
   "mimetype": "text/x-python",
   "name": "python",
   "nbconvert_exporter": "python",
   "pygments_lexer": "ipython3",
   "version": "3.10.8"
  }
 },
 "nbformat": 4,
 "nbformat_minor": 5
}
