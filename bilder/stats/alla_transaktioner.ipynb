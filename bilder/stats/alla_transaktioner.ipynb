{
 "cells": [
  {
   "cell_type": "code",
   "execution_count": 1,
   "id": "70c2074e",
   "metadata": {},
   "outputs": [],
   "source": [
    "import pandas as pd\n",
    "import matplotlib.pyplot as plt"
   ]
  },
  {
   "cell_type": "code",
   "execution_count": 2,
   "id": "0e0f9271",
   "metadata": {},
   "outputs": [],
   "source": [
    "# Läsa in filen och omvandla alla transaktioner till heltal\n",
    "df = pd.read_excel('Transaktioner_687284538_2025-01-25_2025.xlsx')\n",
    "df['Insättning/Uttag'] = df['Insättning/Uttag'].astype('int') \n",
    "df = df.sort_values('Reskontradag') # sortera all data i stigande orning på datum\n",
    "df = df.rename(columns={'Reskontradag':'Datum', 'Insättning/Uttag':'Belopp'}) # döpa om column-namn till nått enklare\n",
    "df = df[(df['Datum']>'2024-01-01') & (df['Datum']<'2025-01-01')].copy()"
   ]
  },
  {
   "cell_type": "code",
   "execution_count": 3,
   "id": "e88f3b3b",
   "metadata": {},
   "outputs": [
    {
     "name": "stdout",
     "output_type": "stream",
     "text": [
      "Kontohavare\n",
      "Kontonr\n",
      "IBAN\n",
      "BIC\n",
      "Kontoform\n",
      "Valuta\n",
      "Kontoförande kontor\n",
      "Datum intervall\n",
      "Referens Swish\n",
      "Avsändar-id Swish\n"
     ]
    }
   ],
   "source": [
    "# ta bort columner som bara har 1 typ av värde\n",
    "cols_to_drop = list()\n",
    "for c in df.columns:\n",
    "    if len(df[c].unique())==1:\n",
    "        print(c)\n",
    "        cols_to_drop.append(c)\n",
    "df.drop(cols_to_drop, inplace=True, axis=1) "
   ]
  },
  {
   "cell_type": "code",
   "execution_count": 4,
   "id": "5e4871d5",
   "metadata": {},
   "outputs": [],
   "source": [
    "# ta bort alla transaktioner som är exakt 500:- för att få bort medlemsavgifter\n",
    "df = df[df['Belopp'] !=500].copy()"
   ]
  },
  {
   "cell_type": "code",
   "execution_count": 5,
   "id": "9c00d28c",
   "metadata": {},
   "outputs": [
    {
     "data": {
      "text/html": [
       "<div>\n",
       "<style scoped>\n",
       "    .dataframe tbody tr th:only-of-type {\n",
       "        vertical-align: middle;\n",
       "    }\n",
       "\n",
       "    .dataframe tbody tr th {\n",
       "        vertical-align: top;\n",
       "    }\n",
       "\n",
       "    .dataframe thead th {\n",
       "        text-align: right;\n",
       "    }\n",
       "</style>\n",
       "<table border=\"1\" class=\"dataframe\">\n",
       "  <thead>\n",
       "    <tr style=\"text-align: right;\">\n",
       "      <th></th>\n",
       "      <th>Datum</th>\n",
       "      <th>Valutadag</th>\n",
       "      <th>Referens</th>\n",
       "      <th>Belopp</th>\n",
       "    </tr>\n",
       "  </thead>\n",
       "  <tbody>\n",
       "    <tr>\n",
       "      <th>559</th>\n",
       "      <td>2024-01-06</td>\n",
       "      <td>2024-01-08</td>\n",
       "      <td>BLOM,MARIA</td>\n",
       "      <td>50</td>\n",
       "    </tr>\n",
       "    <tr>\n",
       "      <th>558</th>\n",
       "      <td>2024-01-06</td>\n",
       "      <td>2024-01-08</td>\n",
       "      <td>Stephen Brian</td>\n",
       "      <td>50</td>\n",
       "    </tr>\n",
       "    <tr>\n",
       "      <th>557</th>\n",
       "      <td>2024-01-06</td>\n",
       "      <td>2024-01-08</td>\n",
       "      <td>ELINA BIRKEHAG</td>\n",
       "      <td>50</td>\n",
       "    </tr>\n",
       "    <tr>\n",
       "      <th>556</th>\n",
       "      <td>2024-01-06</td>\n",
       "      <td>2024-01-08</td>\n",
       "      <td>KENT LARSSON</td>\n",
       "      <td>10</td>\n",
       "    </tr>\n",
       "    <tr>\n",
       "      <th>554</th>\n",
       "      <td>2024-01-07</td>\n",
       "      <td>2024-01-08</td>\n",
       "      <td>Johan Falk</td>\n",
       "      <td>50</td>\n",
       "    </tr>\n",
       "    <tr>\n",
       "      <th>550</th>\n",
       "      <td>2024-01-07</td>\n",
       "      <td>2024-01-08</td>\n",
       "      <td>TORBJÖRN OLSSO</td>\n",
       "      <td>50</td>\n",
       "    </tr>\n",
       "    <tr>\n",
       "      <th>542</th>\n",
       "      <td>2024-01-13</td>\n",
       "      <td>2024-01-15</td>\n",
       "      <td>Susana Municio</td>\n",
       "      <td>50</td>\n",
       "    </tr>\n",
       "    <tr>\n",
       "      <th>541</th>\n",
       "      <td>2024-01-13</td>\n",
       "      <td>2024-01-15</td>\n",
       "      <td>HAGBERG, LINUS</td>\n",
       "      <td>50</td>\n",
       "    </tr>\n",
       "    <tr>\n",
       "      <th>538</th>\n",
       "      <td>2024-01-14</td>\n",
       "      <td>2024-01-15</td>\n",
       "      <td>Hennawy Elhenn</td>\n",
       "      <td>100</td>\n",
       "    </tr>\n",
       "    <tr>\n",
       "      <th>537</th>\n",
       "      <td>2024-01-14</td>\n",
       "      <td>2024-01-15</td>\n",
       "      <td>Patrik Bååth</td>\n",
       "      <td>50</td>\n",
       "    </tr>\n",
       "  </tbody>\n",
       "</table>\n",
       "</div>"
      ],
      "text/plain": [
       "         Datum  Valutadag        Referens  Belopp\n",
       "559 2024-01-06 2024-01-08      BLOM,MARIA      50\n",
       "558 2024-01-06 2024-01-08   Stephen Brian      50\n",
       "557 2024-01-06 2024-01-08  ELINA BIRKEHAG      50\n",
       "556 2024-01-06 2024-01-08    KENT LARSSON      10\n",
       "554 2024-01-07 2024-01-08      Johan Falk      50\n",
       "550 2024-01-07 2024-01-08  TORBJÖRN OLSSO      50\n",
       "542 2024-01-13 2024-01-15  Susana Municio      50\n",
       "541 2024-01-13 2024-01-15  HAGBERG, LINUS      50\n",
       "538 2024-01-14 2024-01-15  Hennawy Elhenn     100\n",
       "537 2024-01-14 2024-01-15    Patrik Bååth      50"
      ]
     },
     "execution_count": 5,
     "metadata": {},
     "output_type": "execute_result"
    }
   ],
   "source": [
    "# titta lite på all data\n",
    "df.head(10)"
   ]
  },
  {
   "cell_type": "markdown",
   "id": "14b66754",
   "metadata": {},
   "source": [
    "# Totala intäcker för 2024 från allmänheten \n",
    "inkl uthyrning av bastun som räknas som 15 personer"
   ]
  },
  {
   "cell_type": "code",
   "execution_count": 6,
   "id": "8712e0c7",
   "metadata": {},
   "outputs": [
    {
     "data": {
      "text/plain": [
       "36898"
      ]
     },
     "execution_count": 6,
     "metadata": {},
     "output_type": "execute_result"
    }
   ],
   "source": [
    "df['Belopp'].sum()"
   ]
  },
  {
   "cell_type": "markdown",
   "id": "4a048027",
   "metadata": {},
   "source": [
    "# Omvandla från betalsystemet\n",
    "Betalsystemet tar en avgift vilket gör att en bokning inte går att dela jämnt med 100:-\n",
    "Formeln nedan rundar alla tal uppåt till närmsta 100-tal för att därefter lättare kunna göra omvandlingen till antal besökare."
   ]
  },
  {
   "cell_type": "code",
   "execution_count": 7,
   "id": "50155df6",
   "metadata": {},
   "outputs": [],
   "source": [
    "# markera vilka poster som är hanterade av betalsystemet\n",
    "df['betalsystem'] = df['Referens'].apply(lambda x: 'STRIPE' in x)"
   ]
  },
  {
   "cell_type": "code",
   "execution_count": 8,
   "id": "0be0ab8e",
   "metadata": {},
   "outputs": [
    {
     "data": {
      "text/html": [
       "<div>\n",
       "<style scoped>\n",
       "    .dataframe tbody tr th:only-of-type {\n",
       "        vertical-align: middle;\n",
       "    }\n",
       "\n",
       "    .dataframe tbody tr th {\n",
       "        vertical-align: top;\n",
       "    }\n",
       "\n",
       "    .dataframe thead th {\n",
       "        text-align: right;\n",
       "    }\n",
       "</style>\n",
       "<table border=\"1\" class=\"dataframe\">\n",
       "  <thead>\n",
       "    <tr style=\"text-align: right;\">\n",
       "      <th></th>\n",
       "      <th>Datum</th>\n",
       "      <th>Valutadag</th>\n",
       "      <th>Referens</th>\n",
       "      <th>Belopp</th>\n",
       "      <th>betalsystem</th>\n",
       "    </tr>\n",
       "  </thead>\n",
       "  <tbody>\n",
       "    <tr>\n",
       "      <th>456</th>\n",
       "      <td>2024-03-25</td>\n",
       "      <td>2024-03-26</td>\n",
       "      <td>STRIPE K8F3</td>\n",
       "      <td>291</td>\n",
       "      <td>True</td>\n",
       "    </tr>\n",
       "    <tr>\n",
       "      <th>446</th>\n",
       "      <td>2024-03-28</td>\n",
       "      <td>2024-04-02</td>\n",
       "      <td>STRIPE N7Y6</td>\n",
       "      <td>93</td>\n",
       "      <td>True</td>\n",
       "    </tr>\n",
       "    <tr>\n",
       "      <th>436</th>\n",
       "      <td>2024-04-02</td>\n",
       "      <td>2024-04-03</td>\n",
       "      <td>STRIPE Q6W7</td>\n",
       "      <td>93</td>\n",
       "      <td>True</td>\n",
       "    </tr>\n",
       "    <tr>\n",
       "      <th>435</th>\n",
       "      <td>2024-04-02</td>\n",
       "      <td>2024-04-03</td>\n",
       "      <td>STRIPE H3P1</td>\n",
       "      <td>190</td>\n",
       "      <td>True</td>\n",
       "    </tr>\n",
       "    <tr>\n",
       "      <th>431</th>\n",
       "      <td>2024-04-03</td>\n",
       "      <td>2024-04-04</td>\n",
       "      <td>STRIPE G6S0</td>\n",
       "      <td>93</td>\n",
       "      <td>True</td>\n",
       "    </tr>\n",
       "    <tr>\n",
       "      <th>430</th>\n",
       "      <td>2024-04-04</td>\n",
       "      <td>2024-04-05</td>\n",
       "      <td>STRIPE H0R3</td>\n",
       "      <td>287</td>\n",
       "      <td>True</td>\n",
       "    </tr>\n",
       "    <tr>\n",
       "      <th>415</th>\n",
       "      <td>2024-04-16</td>\n",
       "      <td>2024-04-17</td>\n",
       "      <td>STRIPE T0X1</td>\n",
       "      <td>93</td>\n",
       "      <td>True</td>\n",
       "    </tr>\n",
       "    <tr>\n",
       "      <th>413</th>\n",
       "      <td>2024-04-17</td>\n",
       "      <td>2024-04-18</td>\n",
       "      <td>STRIPE B5Z0</td>\n",
       "      <td>291</td>\n",
       "      <td>True</td>\n",
       "    </tr>\n",
       "    <tr>\n",
       "      <th>412</th>\n",
       "      <td>2024-04-18</td>\n",
       "      <td>2024-04-19</td>\n",
       "      <td>STRIPE Z6Y4</td>\n",
       "      <td>195</td>\n",
       "      <td>True</td>\n",
       "    </tr>\n",
       "    <tr>\n",
       "      <th>403</th>\n",
       "      <td>2024-04-22</td>\n",
       "      <td>2024-04-23</td>\n",
       "      <td>STRIPE P2T6</td>\n",
       "      <td>190</td>\n",
       "      <td>True</td>\n",
       "    </tr>\n",
       "  </tbody>\n",
       "</table>\n",
       "</div>"
      ],
      "text/plain": [
       "         Datum  Valutadag     Referens  Belopp  betalsystem\n",
       "456 2024-03-25 2024-03-26  STRIPE K8F3     291         True\n",
       "446 2024-03-28 2024-04-02  STRIPE N7Y6      93         True\n",
       "436 2024-04-02 2024-04-03  STRIPE Q6W7      93         True\n",
       "435 2024-04-02 2024-04-03  STRIPE H3P1     190         True\n",
       "431 2024-04-03 2024-04-04  STRIPE G6S0      93         True\n",
       "430 2024-04-04 2024-04-05  STRIPE H0R3     287         True\n",
       "415 2024-04-16 2024-04-17  STRIPE T0X1      93         True\n",
       "413 2024-04-17 2024-04-18  STRIPE B5Z0     291         True\n",
       "412 2024-04-18 2024-04-19  STRIPE Z6Y4     195         True\n",
       "403 2024-04-22 2024-04-23  STRIPE P2T6     190         True"
      ]
     },
     "execution_count": 8,
     "metadata": {},
     "output_type": "execute_result"
    }
   ],
   "source": [
    "# kila på betalningar från betalsystemet\n",
    "df[df['betalsystem']].head(10)"
   ]
  },
  {
   "cell_type": "code",
   "execution_count": 9,
   "id": "cd6eb541",
   "metadata": {},
   "outputs": [],
   "source": [
    "def stripe_to_nearest_100(value):\n",
    "    return int(((value/100)+0.5))*100"
   ]
  },
  {
   "cell_type": "code",
   "execution_count": 10,
   "id": "46b49d98",
   "metadata": {},
   "outputs": [
    {
     "data": {
      "text/plain": [
       "(800, 100, 200)"
      ]
     },
     "execution_count": 10,
     "metadata": {},
     "output_type": "execute_result"
    }
   ],
   "source": [
    "# kolla att funktionen gör rätt\n",
    "stripe_to_nearest_100(771), stripe_to_nearest_100(96), stripe_to_nearest_100(195)"
   ]
  },
  {
   "cell_type": "code",
   "execution_count": 11,
   "id": "7cf5a759",
   "metadata": {},
   "outputs": [
    {
     "data": {
      "text/plain": [
       "Datum          datetime64[ns]\n",
       "Valutadag      datetime64[ns]\n",
       "Referens               object\n",
       "Belopp                  int64\n",
       "betalsystem              bool\n",
       "dtype: object"
      ]
     },
     "execution_count": 11,
     "metadata": {},
     "output_type": "execute_result"
    }
   ],
   "source": [
    "df.dtypes"
   ]
  },
  {
   "cell_type": "code",
   "execution_count": 12,
   "id": "11123cbe",
   "metadata": {},
   "outputs": [
    {
     "data": {
      "text/html": [
       "<div>\n",
       "<style scoped>\n",
       "    .dataframe tbody tr th:only-of-type {\n",
       "        vertical-align: middle;\n",
       "    }\n",
       "\n",
       "    .dataframe tbody tr th {\n",
       "        vertical-align: top;\n",
       "    }\n",
       "\n",
       "    .dataframe thead th {\n",
       "        text-align: right;\n",
       "    }\n",
       "</style>\n",
       "<table border=\"1\" class=\"dataframe\">\n",
       "  <thead>\n",
       "    <tr style=\"text-align: right;\">\n",
       "      <th></th>\n",
       "      <th>Datum</th>\n",
       "      <th>Valutadag</th>\n",
       "      <th>Referens</th>\n",
       "      <th>Belopp</th>\n",
       "      <th>betalsystem</th>\n",
       "    </tr>\n",
       "  </thead>\n",
       "  <tbody>\n",
       "    <tr>\n",
       "      <th>456</th>\n",
       "      <td>2024-03-25</td>\n",
       "      <td>2024-03-26</td>\n",
       "      <td>STRIPE K8F3</td>\n",
       "      <td>300</td>\n",
       "      <td>True</td>\n",
       "    </tr>\n",
       "    <tr>\n",
       "      <th>446</th>\n",
       "      <td>2024-03-28</td>\n",
       "      <td>2024-04-02</td>\n",
       "      <td>STRIPE N7Y6</td>\n",
       "      <td>100</td>\n",
       "      <td>True</td>\n",
       "    </tr>\n",
       "    <tr>\n",
       "      <th>436</th>\n",
       "      <td>2024-04-02</td>\n",
       "      <td>2024-04-03</td>\n",
       "      <td>STRIPE Q6W7</td>\n",
       "      <td>100</td>\n",
       "      <td>True</td>\n",
       "    </tr>\n",
       "    <tr>\n",
       "      <th>435</th>\n",
       "      <td>2024-04-02</td>\n",
       "      <td>2024-04-03</td>\n",
       "      <td>STRIPE H3P1</td>\n",
       "      <td>200</td>\n",
       "      <td>True</td>\n",
       "    </tr>\n",
       "    <tr>\n",
       "      <th>431</th>\n",
       "      <td>2024-04-03</td>\n",
       "      <td>2024-04-04</td>\n",
       "      <td>STRIPE G6S0</td>\n",
       "      <td>100</td>\n",
       "      <td>True</td>\n",
       "    </tr>\n",
       "    <tr>\n",
       "      <th>430</th>\n",
       "      <td>2024-04-04</td>\n",
       "      <td>2024-04-05</td>\n",
       "      <td>STRIPE H0R3</td>\n",
       "      <td>300</td>\n",
       "      <td>True</td>\n",
       "    </tr>\n",
       "    <tr>\n",
       "      <th>415</th>\n",
       "      <td>2024-04-16</td>\n",
       "      <td>2024-04-17</td>\n",
       "      <td>STRIPE T0X1</td>\n",
       "      <td>100</td>\n",
       "      <td>True</td>\n",
       "    </tr>\n",
       "    <tr>\n",
       "      <th>413</th>\n",
       "      <td>2024-04-17</td>\n",
       "      <td>2024-04-18</td>\n",
       "      <td>STRIPE B5Z0</td>\n",
       "      <td>300</td>\n",
       "      <td>True</td>\n",
       "    </tr>\n",
       "    <tr>\n",
       "      <th>412</th>\n",
       "      <td>2024-04-18</td>\n",
       "      <td>2024-04-19</td>\n",
       "      <td>STRIPE Z6Y4</td>\n",
       "      <td>200</td>\n",
       "      <td>True</td>\n",
       "    </tr>\n",
       "    <tr>\n",
       "      <th>403</th>\n",
       "      <td>2024-04-22</td>\n",
       "      <td>2024-04-23</td>\n",
       "      <td>STRIPE P2T6</td>\n",
       "      <td>200</td>\n",
       "      <td>True</td>\n",
       "    </tr>\n",
       "  </tbody>\n",
       "</table>\n",
       "</div>"
      ],
      "text/plain": [
       "         Datum  Valutadag     Referens  Belopp  betalsystem\n",
       "456 2024-03-25 2024-03-26  STRIPE K8F3     300         True\n",
       "446 2024-03-28 2024-04-02  STRIPE N7Y6     100         True\n",
       "436 2024-04-02 2024-04-03  STRIPE Q6W7     100         True\n",
       "435 2024-04-02 2024-04-03  STRIPE H3P1     200         True\n",
       "431 2024-04-03 2024-04-04  STRIPE G6S0     100         True\n",
       "430 2024-04-04 2024-04-05  STRIPE H0R3     300         True\n",
       "415 2024-04-16 2024-04-17  STRIPE T0X1     100         True\n",
       "413 2024-04-17 2024-04-18  STRIPE B5Z0     300         True\n",
       "412 2024-04-18 2024-04-19  STRIPE Z6Y4     200         True\n",
       "403 2024-04-22 2024-04-23  STRIPE P2T6     200         True"
      ]
     },
     "execution_count": 12,
     "metadata": {},
     "output_type": "execute_result"
    }
   ],
   "source": [
    "# konvertera alla transaktioner från betalsystemet till jämna siffror för att lättare beräkna hur många besökare vi har\n",
    "# Notera att summan av transaktioner inte längre kommer stämma efter denna modifikation\n",
    "df.loc[df['betalsystem'], 'Belopp'] = df.loc[df['betalsystem'], 'Belopp'].apply(stripe_to_nearest_100)\n",
    "df[df['betalsystem']].head(10)"
   ]
  },
  {
   "cell_type": "code",
   "execution_count": 13,
   "id": "a6e82911",
   "metadata": {},
   "outputs": [
    {
     "data": {
      "text/plain": [
       "array([  50,   10,  100,   80,  300,  200,  400,  500, 1000,  800,  600,\n",
       "        900, 1500])"
      ]
     },
     "execution_count": 13,
     "metadata": {},
     "output_type": "execute_result"
    }
   ],
   "source": [
    "df['Belopp'].unique()"
   ]
  },
  {
   "cell_type": "code",
   "execution_count": 16,
   "id": "337ca57c",
   "metadata": {},
   "outputs": [],
   "source": [
    "df['Belopp'] = df['Belopp'].replace([10, 80], [50,100])"
   ]
  },
  {
   "cell_type": "code",
   "execution_count": 19,
   "id": "8397435c",
   "metadata": {},
   "outputs": [],
   "source": [
    "# Innan 1 maj kostade det 50kr/besök, omvandla swish betalningar till antal besökare\n",
    "# 100kr blir 2 deltagare, 200kr blir 4 deltagare etc.\n",
    "df.loc[df['Datum']<'2024-05-01', 'antal'] = df.loc[df['Datum']<'2024-05-01', 'Belopp']/50"
   ]
  },
  {
   "cell_type": "code",
   "execution_count": 20,
   "id": "d942162f",
   "metadata": {},
   "outputs": [],
   "source": [
    "# Efter 1 maj kostade det 100kr/besök, omvandla till antal besökarea\n",
    "# Alla transaktioner som är 50kr kommer omvandlas till 100 kr.\n",
    "# 100 kr blir härmed samma som 1 deltagare, 200kr blir 2 deltagare osv\n",
    "df.loc[(df['Datum']>='2024-05-01') & (df['Belopp']==50), 'Belopp'] = 100\n",
    "df.loc[df['Datum']>='2024-05-01', 'antal'] = df.loc[df['Datum']>='2024-05-01', 'Belopp']/100"
   ]
  },
  {
   "cell_type": "code",
   "execution_count": 21,
   "id": "8ef38d78",
   "metadata": {},
   "outputs": [
    {
     "data": {
      "text/plain": [
       "Datum\n",
       "2024-01-31    13.0\n",
       "2024-02-29     9.0\n",
       "2024-03-31    33.0\n",
       "2024-04-30    70.0\n",
       "2024-05-31    28.0\n",
       "2024-06-30    10.0\n",
       "2024-07-31    19.0\n",
       "2024-08-31    20.0\n",
       "2024-09-30    62.0\n",
       "2024-10-31    33.0\n",
       "2024-11-30    89.0\n",
       "2024-12-31    59.0\n",
       "Freq: M, Name: antal, dtype: float64"
      ]
     },
     "execution_count": 21,
     "metadata": {},
     "output_type": "execute_result"
    }
   ],
   "source": [
    "data = df.set_index('Datum').groupby(pd.Grouper(freq='M'))['antal'].sum()\n",
    "data"
   ]
  },
  {
   "cell_type": "markdown",
   "id": "f91cf12f",
   "metadata": {},
   "source": [
    "# Totala antalet besökare:"
   ]
  },
  {
   "cell_type": "code",
   "execution_count": 25,
   "id": "a95963ee",
   "metadata": {},
   "outputs": [],
   "source": [
    "months = 'jan feb mar apr maj jun jul aug sep okt nov dec'.split(' ')"
   ]
  },
  {
   "cell_type": "code",
   "execution_count": 26,
   "id": "fff38882",
   "metadata": {},
   "outputs": [
    {
     "data": {
      "text/plain": [
       "<BarContainer object of 12 artists>"
      ]
     },
     "execution_count": 26,
     "metadata": {},
     "output_type": "execute_result"
    },
    {
     "data": {
      "image/png": "[encoded data removed]",
      "text/plain": [
       "<Figure size 640x480 with 1 Axes>"
      ]
     },
     "metadata": {},
     "output_type": "display_data"
    }
   ],
   "source": [
    "plt.bar(months, height=data.values)"
   ]
  },
  {
   "cell_type": "markdown",
   "id": "eb2b11f3",
   "metadata": {},
   "source": [
    "# Antal besökare\n",
    "Totala antalet besökare under 2024."
   ]
  },
  {
   "cell_type": "code",
   "execution_count": 27,
   "id": "12e37d9b",
   "metadata": {},
   "outputs": [
    {
     "data": {
      "text/plain": [
       "445.0"
      ]
     },
     "execution_count": 27,
     "metadata": {},
     "output_type": "execute_result"
    }
   ],
   "source": [
    "df['antal'].sum()"
   ]
  },
  {
   "cell_type": "code",
   "execution_count": 28,
   "id": "97f24ec3",
   "metadata": {},
   "outputs": [
    {
     "data": {
      "text/plain": [
       "258"
      ]
     },
     "execution_count": 28,
     "metadata": {},
     "output_type": "execute_result"
    }
   ],
   "source": [
    "445-187"
   ]
  },
  {
   "cell_type": "code",
   "execution_count": null,
   "id": "06b71128",
   "metadata": {},
   "outputs": [],
   "source": []
  }
 ],
 "metadata": {
  "kernelspec": {
   "display_name": "Python 3 (ipykernel)",
   "language": "python",
   "name": "python3"
  },
  "language_info": {
   "codemirror_mode": {
    "name": "ipython",
    "version": 3
   },
   "file_extension": ".py",
   "mimetype": "text/x-python",
   "name": "python",
   "nbconvert_exporter": "python",
   "pygments_lexer": "ipython3",
   "version": "3.10.8"
  }
 },
 "nbformat": 4,
 "nbformat_minor": 5
}
